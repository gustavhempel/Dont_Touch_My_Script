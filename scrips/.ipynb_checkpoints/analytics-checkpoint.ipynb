{
 "cells": [
  {
   "cell_type": "code",
   "execution_count": 18,
   "metadata": {},
   "outputs": [],
   "source": [
    "# Dependencies and Setup\n",
    "import matplotlib.pyplot as plt\n",
    "import pandas as pd\n",
    "import numpy as np\n",
    "import requests\n",
    "import time\n",
    "from scipy.stats import linregress\n",
    "from pprint import pprint\n",
    "from api_keys import g_key"
   ]
  },
  {
   "cell_type": "code",
   "execution_count": 19,
   "metadata": {},
   "outputs": [],
   "source": [
    "file = '../winedf_loc_cz2.csv'\n",
    "df = pd.read_csv(file)"
   ]
  },
  {
   "cell_type": "code",
   "execution_count": 20,
   "metadata": {},
   "outputs": [
    {
     "data": {
      "text/plain": [
       "<matplotlib.axes._subplots.AxesSubplot at 0x17812cd2e80>"
      ]
     },
     "execution_count": 20,
     "metadata": {},
     "output_type": "execute_result"
    },
    {
     "data": {
      "image/png": "[encoded data removed]",
      "text/plain": [
       "<Figure size 432x288 with 1 Axes>"
      ]
     },
     "metadata": {
      "needs_background": "light"
     },
     "output_type": "display_data"
    }
   ],
   "source": [
    "\n",
    "df.plot('points','price' ,kind='scatter')"
   ]
  },
  {
   "cell_type": "code",
   "execution_count": 21,
   "metadata": {},
   "outputs": [
    {
     "data": {
      "text/html": [
       "<div>\n",
       "<style scoped>\n",
       "    .dataframe tbody tr th:only-of-type {\n",
       "        vertical-align: middle;\n",
       "    }\n",
       "\n",
       "    .dataframe tbody tr th {\n",
       "        vertical-align: top;\n",
       "    }\n",
       "\n",
       "    .dataframe thead th {\n",
       "        text-align: right;\n",
       "    }\n",
       "</style>\n",
       "<table border=\"1\" class=\"dataframe\">\n",
       "  <thead>\n",
       "    <tr style=\"text-align: right;\">\n",
       "      <th></th>\n",
       "      <th>Unnamed: 0</th>\n",
       "      <th>country</th>\n",
       "      <th>description</th>\n",
       "      <th>designation</th>\n",
       "      <th>points</th>\n",
       "      <th>price</th>\n",
       "      <th>province</th>\n",
       "      <th>region_1</th>\n",
       "      <th>taster_name</th>\n",
       "      <th>taster_twitter_handle</th>\n",
       "      <th>title</th>\n",
       "      <th>variety</th>\n",
       "      <th>winery</th>\n",
       "      <th>Lat</th>\n",
       "      <th>Lng</th>\n",
       "      <th>heat weights</th>\n",
       "      <th>year</th>\n",
       "      <th>Climate Zone</th>\n",
       "      <th>Climate Zone Desc.</th>\n",
       "    </tr>\n",
       "  </thead>\n",
       "  <tbody>\n",
       "    <tr>\n",
       "      <th>0</th>\n",
       "      <td>0</td>\n",
       "      <td>Portugal</td>\n",
       "      <td>This is ripe and fruity, a wine that is smooth...</td>\n",
       "      <td>Avidagos</td>\n",
       "      <td>87</td>\n",
       "      <td>15.0</td>\n",
       "      <td>Douro</td>\n",
       "      <td>NaN</td>\n",
       "      <td>Roger Voss</td>\n",
       "      <td>@vossroger</td>\n",
       "      <td>Quinta dos Avidagos 2011 Avidagos Red (Douro)</td>\n",
       "      <td>Portuguese Red</td>\n",
       "      <td>Quinta dos Avidagos</td>\n",
       "      <td>41.387933</td>\n",
       "      <td>-7.276971</td>\n",
       "      <td>7</td>\n",
       "      <td>2011.0</td>\n",
       "      <td>Csb</td>\n",
       "      <td>Mediterranean, warm summer</td>\n",
       "    </tr>\n",
       "    <tr>\n",
       "      <th>1</th>\n",
       "      <td>1</td>\n",
       "      <td>US</td>\n",
       "      <td>Tart and snappy, the flavors of lime flesh and...</td>\n",
       "      <td>NaN</td>\n",
       "      <td>87</td>\n",
       "      <td>14.0</td>\n",
       "      <td>Oregon</td>\n",
       "      <td>Willamette Valley</td>\n",
       "      <td>Paul Gregutt</td>\n",
       "      <td>@paulgwine</td>\n",
       "      <td>Rainstorm 2013 Pinot Gris (Willamette Valley)</td>\n",
       "      <td>Pinot Gris</td>\n",
       "      <td>Rainstorm</td>\n",
       "      <td>40.089829</td>\n",
       "      <td>-88.248177</td>\n",
       "      <td>7</td>\n",
       "      <td>2013.0</td>\n",
       "      <td>Cfb</td>\n",
       "      <td>Marine west coast, warm summer</td>\n",
       "    </tr>\n",
       "    <tr>\n",
       "      <th>2</th>\n",
       "      <td>2</td>\n",
       "      <td>US</td>\n",
       "      <td>Pineapple rind, lemon pith and orange blossom ...</td>\n",
       "      <td>Reserve Late Harvest</td>\n",
       "      <td>87</td>\n",
       "      <td>13.0</td>\n",
       "      <td>Michigan</td>\n",
       "      <td>Lake Michigan Shore</td>\n",
       "      <td>Alexander Peartree</td>\n",
       "      <td>NaN</td>\n",
       "      <td>St. Julian 2013 Reserve Late Harvest Riesling ...</td>\n",
       "      <td>Riesling</td>\n",
       "      <td>St. Julian</td>\n",
       "      <td>42.212252</td>\n",
       "      <td>-85.891725</td>\n",
       "      <td>7</td>\n",
       "      <td>2013.0</td>\n",
       "      <td>Cfb</td>\n",
       "      <td>Marine west coast, warm summer</td>\n",
       "    </tr>\n",
       "    <tr>\n",
       "      <th>3</th>\n",
       "      <td>3</td>\n",
       "      <td>US</td>\n",
       "      <td>Much like the regular bottling from 2012, this...</td>\n",
       "      <td>Vintner's Reserve Wild Child Block</td>\n",
       "      <td>87</td>\n",
       "      <td>65.0</td>\n",
       "      <td>Oregon</td>\n",
       "      <td>Willamette Valley</td>\n",
       "      <td>Paul Gregutt</td>\n",
       "      <td>@paulgwine</td>\n",
       "      <td>Sweet Cheeks 2012 Vintner's Reserve Wild Child...</td>\n",
       "      <td>Pinot Noir</td>\n",
       "      <td>Sweet Cheeks</td>\n",
       "      <td>42.343889</td>\n",
       "      <td>-71.101111</td>\n",
       "      <td>7</td>\n",
       "      <td>2012.0</td>\n",
       "      <td>Cfb</td>\n",
       "      <td>Marine west coast, warm summer</td>\n",
       "    </tr>\n",
       "    <tr>\n",
       "      <th>4</th>\n",
       "      <td>4</td>\n",
       "      <td>Spain</td>\n",
       "      <td>Blackberry and raspberry aromas show a typical...</td>\n",
       "      <td>Ars In Vitro</td>\n",
       "      <td>87</td>\n",
       "      <td>15.0</td>\n",
       "      <td>Northern Spain</td>\n",
       "      <td>Navarra</td>\n",
       "      <td>Michael Schachner</td>\n",
       "      <td>@wineschach</td>\n",
       "      <td>Tandem 2011 Ars In Vitro Tempranillo-Merlot (N...</td>\n",
       "      <td>Tempranillo-Merlot</td>\n",
       "      <td>Tandem</td>\n",
       "      <td>32.905753</td>\n",
       "      <td>-117.230246</td>\n",
       "      <td>7</td>\n",
       "      <td>2011.0</td>\n",
       "      <td>Cfa</td>\n",
       "      <td>Humid subtropical, no dry season</td>\n",
       "    </tr>\n",
       "  </tbody>\n",
       "</table>\n",
       "</div>"
      ],
      "text/plain": [
       "   Unnamed: 0   country                                        description  \\\n",
       "0           0  Portugal  This is ripe and fruity, a wine that is smooth...   \n",
       "1           1        US  Tart and snappy, the flavors of lime flesh and...   \n",
       "2           2        US  Pineapple rind, lemon pith and orange blossom ...   \n",
       "3           3        US  Much like the regular bottling from 2012, this...   \n",
       "4           4     Spain  Blackberry and raspberry aromas show a typical...   \n",
       "\n",
       "                          designation  points  price        province  \\\n",
       "0                            Avidagos      87   15.0           Douro   \n",
       "1                                 NaN      87   14.0          Oregon   \n",
       "2                Reserve Late Harvest      87   13.0        Michigan   \n",
       "3  Vintner's Reserve Wild Child Block      87   65.0          Oregon   \n",
       "4                        Ars In Vitro      87   15.0  Northern Spain   \n",
       "\n",
       "              region_1         taster_name taster_twitter_handle  \\\n",
       "0                  NaN          Roger Voss            @vossroger   \n",
       "1    Willamette Valley        Paul Gregutt           @paulgwine    \n",
       "2  Lake Michigan Shore  Alexander Peartree                   NaN   \n",
       "3    Willamette Valley        Paul Gregutt           @paulgwine    \n",
       "4              Navarra   Michael Schachner           @wineschach   \n",
       "\n",
       "                                               title             variety  \\\n",
       "0      Quinta dos Avidagos 2011 Avidagos Red (Douro)      Portuguese Red   \n",
       "1      Rainstorm 2013 Pinot Gris (Willamette Valley)          Pinot Gris   \n",
       "2  St. Julian 2013 Reserve Late Harvest Riesling ...            Riesling   \n",
       "3  Sweet Cheeks 2012 Vintner's Reserve Wild Child...          Pinot Noir   \n",
       "4  Tandem 2011 Ars In Vitro Tempranillo-Merlot (N...  Tempranillo-Merlot   \n",
       "\n",
       "                winery        Lat         Lng  heat weights    year  \\\n",
       "0  Quinta dos Avidagos  41.387933   -7.276971             7  2011.0   \n",
       "1            Rainstorm  40.089829  -88.248177             7  2013.0   \n",
       "2           St. Julian  42.212252  -85.891725             7  2013.0   \n",
       "3         Sweet Cheeks  42.343889  -71.101111             7  2012.0   \n",
       "4               Tandem  32.905753 -117.230246             7  2011.0   \n",
       "\n",
       "  Climate Zone                Climate Zone Desc.  \n",
       "0          Csb        Mediterranean, warm summer  \n",
       "1          Cfb    Marine west coast, warm summer  \n",
       "2          Cfb    Marine west coast, warm summer  \n",
       "3          Cfb    Marine west coast, warm summer  \n",
       "4          Cfa  Humid subtropical, no dry season  "
      ]
     },
     "execution_count": 21,
     "metadata": {},
     "output_type": "execute_result"
    }
   ],
   "source": [
    "df.head()"
   ]
  },
  {
   "cell_type": "code",
   "execution_count": 22,
   "metadata": {},
   "outputs": [
    {
     "data": {
      "text/plain": [
       "<matplotlib.axes._subplots.AxesSubplot at 0x1780cdab588>"
      ]
     },
     "execution_count": 22,
     "metadata": {},
     "output_type": "execute_result"
    },
    {
     "data": {
      "image/png": "[encoded data removed]",
      "text/plain": [
       "<Figure size 432x288 with 1 Axes>"
      ]
     },
     "metadata": {
      "needs_background": "light"
     },
     "output_type": "display_data"
    }
   ],
   "source": [
    "df.plot('points','year',kind='scatter')"
   ]
  },
  {
   "cell_type": "code",
   "execution_count": 23,
   "metadata": {},
   "outputs": [],
   "source": [
    "cleandf = df.loc[df.year < 2019 , : ]"
   ]
  },
  {
   "cell_type": "code",
   "execution_count": 24,
   "metadata": {},
   "outputs": [],
   "source": [
    "cleandf = cleandf.loc[cleandf.year > 1950 , :]"
   ]
  },
  {
   "cell_type": "code",
   "execution_count": 25,
   "metadata": {},
   "outputs": [
    {
     "data": {
      "text/html": [
       "<div>\n",
       "<style scoped>\n",
       "    .dataframe tbody tr th:only-of-type {\n",
       "        vertical-align: middle;\n",
       "    }\n",
       "\n",
       "    .dataframe tbody tr th {\n",
       "        vertical-align: top;\n",
       "    }\n",
       "\n",
       "    .dataframe thead th {\n",
       "        text-align: right;\n",
       "    }\n",
       "</style>\n",
       "<table border=\"1\" class=\"dataframe\">\n",
       "  <thead>\n",
       "    <tr style=\"text-align: right;\">\n",
       "      <th></th>\n",
       "      <th>Unnamed: 0</th>\n",
       "      <th>points</th>\n",
       "      <th>price</th>\n",
       "      <th>Lat</th>\n",
       "      <th>Lng</th>\n",
       "      <th>heat weights</th>\n",
       "      <th>year</th>\n",
       "    </tr>\n",
       "  </thead>\n",
       "  <tbody>\n",
       "    <tr>\n",
       "      <th>count</th>\n",
       "      <td>113402.000000</td>\n",
       "      <td>113402.000000</td>\n",
       "      <td>113402.000000</td>\n",
       "      <td>113402.000000</td>\n",
       "      <td>113402.000000</td>\n",
       "      <td>113402.000000</td>\n",
       "      <td>113402.000000</td>\n",
       "    </tr>\n",
       "    <tr>\n",
       "      <th>mean</th>\n",
       "      <td>6997.611224</td>\n",
       "      <td>88.478193</td>\n",
       "      <td>35.686011</td>\n",
       "      <td>37.216757</td>\n",
       "      <td>-62.874981</td>\n",
       "      <td>8.478193</td>\n",
       "      <td>2010.725349</td>\n",
       "    </tr>\n",
       "    <tr>\n",
       "      <th>std</th>\n",
       "      <td>4688.673919</td>\n",
       "      <td>3.048687</td>\n",
       "      <td>41.341037</td>\n",
       "      <td>16.523137</td>\n",
       "      <td>58.794202</td>\n",
       "      <td>3.048687</td>\n",
       "      <td>3.630590</td>\n",
       "    </tr>\n",
       "    <tr>\n",
       "      <th>min</th>\n",
       "      <td>0.000000</td>\n",
       "      <td>80.000000</td>\n",
       "      <td>4.000000</td>\n",
       "      <td>-54.050000</td>\n",
       "      <td>-156.380849</td>\n",
       "      <td>0.000000</td>\n",
       "      <td>1952.000000</td>\n",
       "    </tr>\n",
       "    <tr>\n",
       "      <th>25%</th>\n",
       "      <td>3294.000000</td>\n",
       "      <td>86.000000</td>\n",
       "      <td>17.000000</td>\n",
       "      <td>37.225606</td>\n",
       "      <td>-120.065110</td>\n",
       "      <td>6.000000</td>\n",
       "      <td>2009.000000</td>\n",
       "    </tr>\n",
       "    <tr>\n",
       "      <th>50%</th>\n",
       "      <td>6587.000000</td>\n",
       "      <td>88.000000</td>\n",
       "      <td>26.000000</td>\n",
       "      <td>40.574832</td>\n",
       "      <td>-81.248872</td>\n",
       "      <td>8.000000</td>\n",
       "      <td>2011.000000</td>\n",
       "    </tr>\n",
       "    <tr>\n",
       "      <th>75%</th>\n",
       "      <td>9873.000000</td>\n",
       "      <td>91.000000</td>\n",
       "      <td>42.000000</td>\n",
       "      <td>44.700531</td>\n",
       "      <td>0.532920</td>\n",
       "      <td>11.000000</td>\n",
       "      <td>2013.000000</td>\n",
       "    </tr>\n",
       "    <tr>\n",
       "      <th>max</th>\n",
       "      <td>22533.000000</td>\n",
       "      <td>100.000000</td>\n",
       "      <td>3300.000000</td>\n",
       "      <td>74.609012</td>\n",
       "      <td>176.916056</td>\n",
       "      <td>20.000000</td>\n",
       "      <td>2017.000000</td>\n",
       "    </tr>\n",
       "  </tbody>\n",
       "</table>\n",
       "</div>"
      ],
      "text/plain": [
       "          Unnamed: 0         points          price            Lat  \\\n",
       "count  113402.000000  113402.000000  113402.000000  113402.000000   \n",
       "mean     6997.611224      88.478193      35.686011      37.216757   \n",
       "std      4688.673919       3.048687      41.341037      16.523137   \n",
       "min         0.000000      80.000000       4.000000     -54.050000   \n",
       "25%      3294.000000      86.000000      17.000000      37.225606   \n",
       "50%      6587.000000      88.000000      26.000000      40.574832   \n",
       "75%      9873.000000      91.000000      42.000000      44.700531   \n",
       "max     22533.000000     100.000000    3300.000000      74.609012   \n",
       "\n",
       "                 Lng   heat weights           year  \n",
       "count  113402.000000  113402.000000  113402.000000  \n",
       "mean      -62.874981       8.478193    2010.725349  \n",
       "std        58.794202       3.048687       3.630590  \n",
       "min      -156.380849       0.000000    1952.000000  \n",
       "25%      -120.065110       6.000000    2009.000000  \n",
       "50%       -81.248872       8.000000    2011.000000  \n",
       "75%         0.532920      11.000000    2013.000000  \n",
       "max       176.916056      20.000000    2017.000000  "
      ]
     },
     "execution_count": 25,
     "metadata": {},
     "output_type": "execute_result"
    }
   ],
   "source": [
    "cleandf = cleandf.fillna('not avail')\n",
    "cleandf = cleandf.loc[cleandf.country != 'not avail']\n",
    "cleandf = cleandf.loc[cleandf.variety != 'not avail']\n",
    "cleandf.describe()"
   ]
  },
  {
   "cell_type": "code",
   "execution_count": 26,
   "metadata": {
    "scrolled": true
   },
   "outputs": [],
   "source": [
    "cleandf = cleandf.drop(columns=['Unnamed: 0','taster_twitter_handle','designation','province'])"
   ]
  },
  {
   "cell_type": "code",
   "execution_count": 27,
   "metadata": {},
   "outputs": [],
   "source": [
    "price = cleandf.groupby('price')\n",
    "year = cleandf.groupby('year')\n",
    "variety = cleandf.groupby('variety')\n",
    "clizone = cleandf.groupby('Climate Zone')\n",
    "score = cleandf.groupby('points')"
   ]
  },
  {
   "cell_type": "code",
   "execution_count": 28,
   "metadata": {},
   "outputs": [
    {
     "data": {
      "text/plain": [
       "<matplotlib.axes._subplots.AxesSubplot at 0x1780d48fe48>"
      ]
     },
     "execution_count": 28,
     "metadata": {},
     "output_type": "execute_result"
    },
    {
     "data": {
      "image/png": "[encoded data removed]",
      "text/plain": [
       "<Figure size 432x288 with 1 Axes>"
      ]
     },
     "metadata": {
      "needs_background": "light"
     },
     "output_type": "display_data"
    }
   ],
   "source": [
    "a = clizone.count()\n",
    "a = a.sort_values('variety',ascending=False).head(10)\n",
    "a['variety'].plot(kind='bar')\n"
   ]
  },
  {
   "cell_type": "code",
   "execution_count": 29,
   "metadata": {
    "scrolled": true
   },
   "outputs": [
    {
     "data": {
      "text/plain": [
       "<matplotlib.axes._subplots.AxesSubplot at 0x17806542390>"
      ]
     },
     "execution_count": 29,
     "metadata": {},
     "output_type": "execute_result"
    },
    {
     "data": {
      "image/png": "[encoded data removed]",
      "text/plain": [
       "<Figure size 432x288 with 1 Axes>"
      ]
     },
     "metadata": {
      "needs_background": "light"
     },
     "output_type": "display_data"
    }
   ],
   "source": [
    "a = score['price'].mean()\n",
    "a.plot()"
   ]
  },
  {
   "cell_type": "code",
   "execution_count": 30,
   "metadata": {
    "scrolled": true
   },
   "outputs": [
    {
     "data": {
      "text/plain": [
       "<matplotlib.axes._subplots.AxesSubplot at 0x178065ac860>"
      ]
     },
     "execution_count": 30,
     "metadata": {},
     "output_type": "execute_result"
    },
    {
     "data": {
      "image/png": "[encoded data removed]",
      "text/plain": [
       "<Figure size 432x288 with 1 Axes>"
      ]
     },
     "metadata": {
      "needs_background": "light"
     },
     "output_type": "display_data"
    }
   ],
   "source": [
    "a = year['price'].mean()\n",
    "a.plot()\n"
   ]
  },
  {
   "cell_type": "code",
   "execution_count": 31,
   "metadata": {
    "scrolled": true
   },
   "outputs": [
    {
     "data": {
      "text/plain": [
       "<matplotlib.axes._subplots.AxesSubplot at 0x17806fd2b38>"
      ]
     },
     "execution_count": 31,
     "metadata": {},
     "output_type": "execute_result"
    },
    {
     "data": {
      "image/png": "[encoded data removed]",
      "text/plain": [
       "<Figure size 432x288 with 1 Axes>"
      ]
     },
     "metadata": {
      "needs_background": "light"
     },
     "output_type": "display_data"
    }
   ],
   "source": [
    "a = variety.count()\n",
    "a = a.sort_values('price',ascending=False).head(10)\n",
    "a.title.plot(kind='bar')\n"
   ]
  },
  {
   "cell_type": "code",
   "execution_count": 32,
   "metadata": {},
   "outputs": [],
   "source": [
    "cleandf['raiting'] = cleandf['heat weights']*5\n",
    "#newdf = cleandf.loc[cleandf.points >= 90 , : ]\n",
    "newdf = cleandf.sort_values(by='raiting', ascending=False)\n",
    "newdf.to_csv('thefile.csv')"
   ]
  },
  {
   "cell_type": "code",
   "execution_count": 35,
   "metadata": {},
   "outputs": [
    {
     "data": {
      "application/vnd.jupyter.widget-view+json": {
       "model_id": "4068d53b0bca4ab992fcfcb3752c60e6",
       "version_major": 2,
       "version_minor": 0
      },
      "text/plain": [
       "Figure(layout=FigureLayout(height='420px'))"
      ]
     },
     "metadata": {},
     "output_type": "display_data"
    }
   ],
   "source": [
    "import gmaps\n",
    "gmaps.configure(api_key=g_key)\n",
    "locations = cleandf[[\"Lat\", \"Lng\"]].astype(float)\n",
    "humidity = cleandf[\"heat weights\"].astype(float)\n",
    "fig = gmaps.figure()\n",
    "\n",
    "heat_layer = gmaps.heatmap_layer(locations, weights=humidity, \n",
    "                                 dissipating=False, max_intensity=30,\n",
    "                                 point_radius = 0.4)\n",
    "\n",
    "fig.add_layer(heat_layer)\n",
    "fig"
   ]
  },
  {
   "cell_type": "code",
   "execution_count": 34,
   "metadata": {},
   "outputs": [
    {
     "data": {
      "application/vnd.jupyter.widget-view+json": {
       "model_id": "8d45e30226a54c7c93454d87aa24cbf4",
       "version_major": 2,
       "version_minor": 0
      },
      "text/plain": [
       "Figure(layout=FigureLayout(height='420px'))"
      ]
     },
     "metadata": {},
     "output_type": "display_data"
    }
   ],
   "source": [
    "import gmaps\n",
    "gmaps.configure(api_key=g_key)\n",
    "locations = newdf[[\"Lat\", \"Lng\"]].astype(float)\n",
    "humidity = newdf[\"heat weights\"].astype(float)\n",
    "fig = gmaps.figure()\n",
    "\n",
    "heat_layer = gmaps.heatmap_layer(locations, weights=humidity, \n",
    "                                 dissipating=False, max_intensity=30,\n",
    "                                 point_radius = 3)\n",
    "\n",
    "fig.add_layer(heat_layer)\n",
    "fig"
   ]
  },
  {
   "cell_type": "code",
   "execution_count": null,
   "metadata": {},
   "outputs": [],
   "source": []
  }
 ],
 "metadata": {
  "kernelspec": {
   "display_name": "Python 3",
   "language": "python",
   "name": "python3"
  },
  "language_info": {
   "codemirror_mode": {
    "name": "ipython",
    "version": 3
   },
   "file_extension": ".py",
   "mimetype": "text/x-python",
   "name": "python",
   "nbconvert_exporter": "python",
   "pygments_lexer": "ipython3",
   "version": "3.7.3"
  }
 },
 "nbformat": 4,
 "nbformat_minor": 4
}

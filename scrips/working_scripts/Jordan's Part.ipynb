{
 "cells": [
  {
   "cell_type": "code",
   "execution_count": 1,
   "metadata": {},
   "outputs": [],
   "source": [
    "# Dependencies and Setup\n",
    "import matplotlib.pyplot as plt\n",
    "import pandas as pd\n",
    "import numpy as np\n",
    "import requests\n",
    "import time\n",
    "from scipy.stats import linregress\n",
    "from pprint import pprint\n",
    "from api_keys_file import g_key\n",
    "import scipy.stats as st"
   ]
  },
  {
   "cell_type": "markdown",
   "metadata": {},
   "source": [
    "# Sections\n",
    "\n",
    "## Price and Rating Buckets by Grape and Country\n",
    "\n",
    "## Best Quality:Price Ratio (Regression Analysis)\n",
    "\n",
    "## What is a reasonable amount to spend on wine?"
   ]
  },
  {
   "cell_type": "code",
   "execution_count": 2,
   "metadata": {},
   "outputs": [],
   "source": [
    "file = '../winedf_loc_cz2.csv'\n",
    "df = pd.read_csv(file)\n",
    "df_above = df.loc[df.price > 25,:]"
   ]
  },
  {
   "cell_type": "code",
   "execution_count": 3,
   "metadata": {
    "scrolled": true
   },
   "outputs": [
    {
     "data": {
      "text/html": [
       "<div>\n",
       "<style scoped>\n",
       "    .dataframe tbody tr th:only-of-type {\n",
       "        vertical-align: middle;\n",
       "    }\n",
       "\n",
       "    .dataframe tbody tr th {\n",
       "        vertical-align: top;\n",
       "    }\n",
       "\n",
       "    .dataframe thead th {\n",
       "        text-align: right;\n",
       "    }\n",
       "</style>\n",
       "<table border=\"1\" class=\"dataframe\">\n",
       "  <thead>\n",
       "    <tr style=\"text-align: right;\">\n",
       "      <th></th>\n",
       "      <th>Unnamed: 0</th>\n",
       "      <th>country</th>\n",
       "      <th>description</th>\n",
       "      <th>designation</th>\n",
       "      <th>points</th>\n",
       "      <th>price</th>\n",
       "      <th>province</th>\n",
       "      <th>region_1</th>\n",
       "      <th>taster_name</th>\n",
       "      <th>taster_twitter_handle</th>\n",
       "      <th>title</th>\n",
       "      <th>variety</th>\n",
       "      <th>winery</th>\n",
       "      <th>Lat</th>\n",
       "      <th>Lng</th>\n",
       "      <th>heat weights</th>\n",
       "      <th>year</th>\n",
       "      <th>Climate Zone</th>\n",
       "      <th>Climate Zone Desc.</th>\n",
       "    </tr>\n",
       "  </thead>\n",
       "  <tbody>\n",
       "    <tr>\n",
       "      <td>3</td>\n",
       "      <td>3</td>\n",
       "      <td>US</td>\n",
       "      <td>Much like the regular bottling from 2012, this...</td>\n",
       "      <td>Vintner's Reserve Wild Child Block</td>\n",
       "      <td>87</td>\n",
       "      <td>65.0</td>\n",
       "      <td>Oregon</td>\n",
       "      <td>Willamette Valley</td>\n",
       "      <td>Paul Gregutt</td>\n",
       "      <td>@paulgwine</td>\n",
       "      <td>Sweet Cheeks 2012 Vintner's Reserve Wild Child...</td>\n",
       "      <td>Pinot Noir</td>\n",
       "      <td>Sweet Cheeks</td>\n",
       "      <td>42.343889</td>\n",
       "      <td>-71.101111</td>\n",
       "      <td>7</td>\n",
       "      <td>2012.0</td>\n",
       "      <td>Cfb</td>\n",
       "      <td>Marine west coast, warm summer</td>\n",
       "    </tr>\n",
       "  </tbody>\n",
       "</table>\n",
       "</div>"
      ],
      "text/plain": [
       "   Unnamed: 0 country                                        description  \\\n",
       "3           3      US  Much like the regular bottling from 2012, this...   \n",
       "\n",
       "                          designation  points  price province  \\\n",
       "3  Vintner's Reserve Wild Child Block      87   65.0   Oregon   \n",
       "\n",
       "            region_1   taster_name taster_twitter_handle  \\\n",
       "3  Willamette Valley  Paul Gregutt           @paulgwine    \n",
       "\n",
       "                                               title     variety  \\\n",
       "3  Sweet Cheeks 2012 Vintner's Reserve Wild Child...  Pinot Noir   \n",
       "\n",
       "         winery        Lat        Lng  heat weights    year Climate Zone  \\\n",
       "3  Sweet Cheeks  42.343889 -71.101111             7  2012.0          Cfb   \n",
       "\n",
       "               Climate Zone Desc.  \n",
       "3  Marine west coast, warm summer  "
      ]
     },
     "execution_count": 3,
     "metadata": {},
     "output_type": "execute_result"
    }
   ],
   "source": [
    "df_above.head(1)"
   ]
  },
  {
   "cell_type": "code",
   "execution_count": 4,
   "metadata": {
    "scrolled": true
   },
   "outputs": [
    {
     "data": {
      "text/html": [
       "<div>\n",
       "<style scoped>\n",
       "    .dataframe tbody tr th:only-of-type {\n",
       "        vertical-align: middle;\n",
       "    }\n",
       "\n",
       "    .dataframe tbody tr th {\n",
       "        vertical-align: top;\n",
       "    }\n",
       "\n",
       "    .dataframe thead th {\n",
       "        text-align: right;\n",
       "    }\n",
       "</style>\n",
       "<table border=\"1\" class=\"dataframe\">\n",
       "  <thead>\n",
       "    <tr style=\"text-align: right;\">\n",
       "      <th></th>\n",
       "      <th>Unnamed: 0</th>\n",
       "      <th>points</th>\n",
       "      <th>price</th>\n",
       "      <th>Lat</th>\n",
       "      <th>Lng</th>\n",
       "      <th>heat weights</th>\n",
       "      <th>year</th>\n",
       "    </tr>\n",
       "    <tr>\n",
       "      <th>variety</th>\n",
       "      <th></th>\n",
       "      <th></th>\n",
       "      <th></th>\n",
       "      <th></th>\n",
       "      <th></th>\n",
       "      <th></th>\n",
       "      <th></th>\n",
       "    </tr>\n",
       "  </thead>\n",
       "  <tbody>\n",
       "    <tr>\n",
       "      <td>Cabernet Sauvignon</td>\n",
       "      <td>6721</td>\n",
       "      <td>90</td>\n",
       "      <td>53.0</td>\n",
       "      <td>38.500366</td>\n",
       "      <td>-119.979742</td>\n",
       "      <td>10</td>\n",
       "      <td>2010.0</td>\n",
       "    </tr>\n",
       "    <tr>\n",
       "      <td>Bordeaux-style Red Blend</td>\n",
       "      <td>6481</td>\n",
       "      <td>90</td>\n",
       "      <td>49.0</td>\n",
       "      <td>44.733282</td>\n",
       "      <td>-77.201624</td>\n",
       "      <td>10</td>\n",
       "      <td>2011.0</td>\n",
       "    </tr>\n",
       "    <tr>\n",
       "      <td>Pinot Noir</td>\n",
       "      <td>6641</td>\n",
       "      <td>91</td>\n",
       "      <td>48.0</td>\n",
       "      <td>38.559106</td>\n",
       "      <td>-120.199408</td>\n",
       "      <td>11</td>\n",
       "      <td>2012.0</td>\n",
       "    </tr>\n",
       "    <tr>\n",
       "      <td>Red Blend</td>\n",
       "      <td>6649</td>\n",
       "      <td>90</td>\n",
       "      <td>42.0</td>\n",
       "      <td>40.949544</td>\n",
       "      <td>-73.958905</td>\n",
       "      <td>10</td>\n",
       "      <td>2010.0</td>\n",
       "    </tr>\n",
       "    <tr>\n",
       "      <td>Chardonnay</td>\n",
       "      <td>6569</td>\n",
       "      <td>90</td>\n",
       "      <td>40.0</td>\n",
       "      <td>38.533504</td>\n",
       "      <td>-96.828782</td>\n",
       "      <td>10</td>\n",
       "      <td>2012.0</td>\n",
       "    </tr>\n",
       "  </tbody>\n",
       "</table>\n",
       "</div>"
      ],
      "text/plain": [
       "                          Unnamed: 0  points  price        Lat         Lng  \\\n",
       "variety                                                                      \n",
       "Cabernet Sauvignon              6721      90   53.0  38.500366 -119.979742   \n",
       "Bordeaux-style Red Blend        6481      90   49.0  44.733282  -77.201624   \n",
       "Pinot Noir                      6641      91   48.0  38.559106 -120.199408   \n",
       "Red Blend                       6649      90   42.0  40.949544  -73.958905   \n",
       "Chardonnay                      6569      90   40.0  38.533504  -96.828782   \n",
       "\n",
       "                          heat weights    year  \n",
       "variety                                         \n",
       "Cabernet Sauvignon                  10  2010.0  \n",
       "Bordeaux-style Red Blend            10  2011.0  \n",
       "Pinot Noir                          11  2012.0  \n",
       "Red Blend                           10  2010.0  \n",
       "Chardonnay                          10  2012.0  "
      ]
     },
     "execution_count": 4,
     "metadata": {},
     "output_type": "execute_result"
    }
   ],
   "source": [
    "top_five = [\"Pinot Noir\", \"Chardonnay\", \"Cabernet Sauvignon\", \"Red Blend\", \"Bordeaux-style Red Blend\"]\n",
    "var = df_above\n",
    "#var = var.count().sort_values(by='price',ascending=False).head(5)\n",
    "#var.mean().sort_values(by='price',ascending=False)\n",
    "var = var.loc[(var[\"variety\"] == top_five[0]) | (var[\"variety\"] == top_five[1]) | (var[\"variety\"] == top_five[2]) | (var[\"variety\"] == top_five[3]) |(var[\"variety\"] == top_five[4])]\n",
    "var = var.groupby('variety')\n",
    "var = var.median().sort_values(by='price',ascending=False)\n",
    "var"
   ]
  },
  {
   "cell_type": "code",
   "execution_count": 5,
   "metadata": {},
   "outputs": [
    {
     "data": {
      "text/plain": [
       "5"
      ]
     },
     "execution_count": 5,
     "metadata": {},
     "output_type": "execute_result"
    }
   ],
   "source": [
    "len(var)"
   ]
  },
  {
   "cell_type": "code",
   "execution_count": 6,
   "metadata": {
    "scrolled": true
   },
   "outputs": [
    {
     "data": {
      "image/png": "[encoded data removed]",
      "text/plain": [
       "<Figure size 432x288 with 1 Axes>"
      ]
     },
     "metadata": {
      "needs_background": "light"
     },
     "output_type": "display_data"
    }
   ],
   "source": [
    "var = var.drop(columns=['Unnamed: 0', 'Lat', 'Lng', 'heat weights', 'year'])\n",
    "var.plot(kind=\"bar\", rot=40)\n",
    "plt.ylabel(\"Price\")\n",
    "plt.title(\"Wines over $25: Median Price & Rating by Variety\")\n",
    "\n",
    "for x in range(len(var)):\n",
    "    \n",
    "    plt.annotate(xy=(x-0.25,var[\"points\"][x]+2),\n",
    "                s=var[\"points\"][x])\n",
    "    \n",
    "    plt.annotate(xy=(x,var[\"price\"][x]+2),\n",
    "                s=var[\"price\"].map('${:,.0f}'.format)[x])\n",
    "plt.xlabel(\"Variety\")\n",
    "plt.ylim(0, 120)\n",
    "plt.savefig('wine_over_25_variety.png')"
   ]
  },
  {
   "cell_type": "code",
   "execution_count": 7,
   "metadata": {},
   "outputs": [
    {
     "data": {
      "text/html": [
       "<div>\n",
       "<style scoped>\n",
       "    .dataframe tbody tr th:only-of-type {\n",
       "        vertical-align: middle;\n",
       "    }\n",
       "\n",
       "    .dataframe tbody tr th {\n",
       "        vertical-align: top;\n",
       "    }\n",
       "\n",
       "    .dataframe thead th {\n",
       "        text-align: right;\n",
       "    }\n",
       "</style>\n",
       "<table border=\"1\" class=\"dataframe\">\n",
       "  <thead>\n",
       "    <tr style=\"text-align: right;\">\n",
       "      <th></th>\n",
       "      <th>Unnamed: 0</th>\n",
       "      <th>points</th>\n",
       "      <th>price</th>\n",
       "      <th>Lat</th>\n",
       "      <th>Lng</th>\n",
       "      <th>heat weights</th>\n",
       "      <th>year</th>\n",
       "    </tr>\n",
       "    <tr>\n",
       "      <th>country</th>\n",
       "      <th></th>\n",
       "      <th></th>\n",
       "      <th></th>\n",
       "      <th></th>\n",
       "      <th></th>\n",
       "      <th></th>\n",
       "      <th></th>\n",
       "    </tr>\n",
       "  </thead>\n",
       "  <tbody>\n",
       "    <tr>\n",
       "      <td>Italy</td>\n",
       "      <td>6472.0</td>\n",
       "      <td>90.0</td>\n",
       "      <td>49.0</td>\n",
       "      <td>43.213021</td>\n",
       "      <td>10.583095</td>\n",
       "      <td>10.0</td>\n",
       "      <td>2010.0</td>\n",
       "    </tr>\n",
       "    <tr>\n",
       "      <td>France</td>\n",
       "      <td>6559.5</td>\n",
       "      <td>91.0</td>\n",
       "      <td>46.0</td>\n",
       "      <td>46.280700</td>\n",
       "      <td>3.795447</td>\n",
       "      <td>11.0</td>\n",
       "      <td>2012.0</td>\n",
       "    </tr>\n",
       "    <tr>\n",
       "      <td>Portugal</td>\n",
       "      <td>6480.0</td>\n",
       "      <td>91.0</td>\n",
       "      <td>42.0</td>\n",
       "      <td>39.483117</td>\n",
       "      <td>-8.610846</td>\n",
       "      <td>11.0</td>\n",
       "      <td>2011.0</td>\n",
       "    </tr>\n",
       "    <tr>\n",
       "      <td>Spain</td>\n",
       "      <td>6559.0</td>\n",
       "      <td>90.0</td>\n",
       "      <td>42.0</td>\n",
       "      <td>41.528159</td>\n",
       "      <td>-3.743058</td>\n",
       "      <td>10.0</td>\n",
       "      <td>2009.0</td>\n",
       "    </tr>\n",
       "    <tr>\n",
       "      <td>US</td>\n",
       "      <td>6670.0</td>\n",
       "      <td>90.0</td>\n",
       "      <td>41.0</td>\n",
       "      <td>38.500011</td>\n",
       "      <td>-120.615235</td>\n",
       "      <td>10.0</td>\n",
       "      <td>2012.0</td>\n",
       "    </tr>\n",
       "  </tbody>\n",
       "</table>\n",
       "</div>"
      ],
      "text/plain": [
       "          Unnamed: 0  points  price        Lat         Lng  heat weights  \\\n",
       "country                                                                    \n",
       "Italy         6472.0    90.0   49.0  43.213021   10.583095          10.0   \n",
       "France        6559.5    91.0   46.0  46.280700    3.795447          11.0   \n",
       "Portugal      6480.0    91.0   42.0  39.483117   -8.610846          11.0   \n",
       "Spain         6559.0    90.0   42.0  41.528159   -3.743058          10.0   \n",
       "US            6670.0    90.0   41.0  38.500011 -120.615235          10.0   \n",
       "\n",
       "            year  \n",
       "country           \n",
       "Italy     2010.0  \n",
       "France    2012.0  \n",
       "Portugal  2011.0  \n",
       "Spain     2009.0  \n",
       "US        2012.0  "
      ]
     },
     "execution_count": 7,
     "metadata": {},
     "output_type": "execute_result"
    }
   ],
   "source": [
    "country = df_above\n",
    "top_five = [\"US\", \"France\", \"Italy\", \"Spain\", \"Portugal\"]\n",
    "#var = var.count().sort_values(by='price',ascending=False).head(5)\n",
    "#var.mean().sort_values(by='price',ascending=False)\n",
    "country = country.loc[(country[\"country\"] == top_five[0]) | (country[\"country\"] == top_five[1]) | (country[\"country\"] == top_five[2]) | (country[\"country\"] == top_five[3]) |(country[\"country\"] == top_five[4])]\n",
    "country = country.groupby('country')\n",
    "country = country.median().sort_values(by='price',ascending=False)\n",
    "country"
   ]
  },
  {
   "cell_type": "code",
   "execution_count": null,
   "metadata": {},
   "outputs": [],
   "source": []
  },
  {
   "cell_type": "code",
   "execution_count": 8,
   "metadata": {},
   "outputs": [
    {
     "data": {
      "image/png": "[encoded data removed]",
      "text/plain": [
       "<Figure size 432x288 with 1 Axes>"
      ]
     },
     "metadata": {
      "needs_background": "light"
     },
     "output_type": "display_data"
    }
   ],
   "source": [
    "country = country.drop(columns=['Unnamed: 0', 'Lat', 'Lng', 'heat weights', 'year'])\n",
    "country.plot(kind=\"bar\", rot=40)\n",
    "plt.title(\"Wines over $25: Median Price & Rating by Country\")\n",
    "\n",
    "for x in range(len(country)):\n",
    "    \n",
    "    plt.annotate(xy=(x-0.25,country[\"points\"][x]+2),\n",
    "                s=country[\"points\"][x])\n",
    "    \n",
    "    plt.annotate(xy=(x,country[\"price\"][x]+2),\n",
    "                s=country[\"price\"].map('${:,.0f}'.format)[x])\n",
    "plt.xlabel(\"Country\")\n",
    "plt.ylim(0, 120)    \n",
    "plt.savefig('wine_over_25_country.png')"
   ]
  },
  {
   "cell_type": "code",
   "execution_count": 9,
   "metadata": {},
   "outputs": [],
   "source": [
    "df_below = df.loc[df.price < 25,:]"
   ]
  },
  {
   "cell_type": "code",
   "execution_count": 10,
   "metadata": {},
   "outputs": [],
   "source": [
    "top_five = [\"Pinot Noir\", \"Chardonnay\", \"Cabernet Sauvignon\", \"Red Blend\", \"Bordeaux-style Red Blend\"]\n",
    "var2 = df_below\n",
    "#var = var.count().sort_values(by='price',ascending=False).head(5)\n",
    "#var.mean().sort_values(by='price',ascending=False)\n",
    "var2 = var2.loc[(var2[\"variety\"] == top_five[0]) | (var2[\"variety\"] == top_five[1]) | (var2[\"variety\"] == top_five[2]) | (var2[\"variety\"] == top_five[3]) |(var2[\"variety\"] == top_five[4])]\n",
    "var2 = var2.groupby('variety')\n",
    "var2 = var2.median().sort_values(by='price',ascending=False)\n",
    "var2 = var2.drop(columns=['Unnamed: 0', 'Lat', 'Lng', 'heat weights', 'year'])"
   ]
  },
  {
   "cell_type": "code",
   "execution_count": 11,
   "metadata": {},
   "outputs": [
    {
     "data": {
      "image/png": "[encoded data removed]",
      "text/plain": [
       "<Figure size 432x288 with 1 Axes>"
      ]
     },
     "metadata": {
      "needs_background": "light"
     },
     "output_type": "display_data"
    }
   ],
   "source": [
    "var2.plot(kind=\"bar\", rot=25)\n",
    "plt.ylabel(\"Price\")\n",
    "plt.title(\"Wines under $25: Median Price & Rating by Variety\")\n",
    "\n",
    "for x in range(len(var2)):\n",
    "    \n",
    "    plt.annotate(xy=(x-0.25,var2[\"points\"][x]+2),\n",
    "                s=var2[\"points\"][x])\n",
    "    \n",
    "    plt.annotate(xy=(x,var2[\"price\"][x]+2),\n",
    "                s=var2[\"price\"].map('${:,.0f}'.format)[x])\n",
    "plt.xlabel(\"Variety\")\n",
    "plt.ylim(0, 120)   \n",
    "plt.savefig('wine_under_25_variety.png')"
   ]
  },
  {
   "cell_type": "code",
   "execution_count": 12,
   "metadata": {},
   "outputs": [],
   "source": [
    "country2 = df_below\n",
    "top_five = [\"US\", \"France\", \"Italy\", \"Spain\", \"Portugal\"]\n",
    "#var = var.count().sort_values(by='price',ascending=False).head(5)\n",
    "#var.mean().sort_values(by='price',ascending=False)\n",
    "country2 = country2.loc[(country2[\"country\"] == top_five[0]) | (country2[\"country\"] == top_five[1]) | (country2[\"country\"] == top_five[2]) | (country2[\"country\"] == top_five[3]) |(country2[\"country\"] == top_five[4])]\n",
    "country2 = country2.groupby('country')\n",
    "country2  = country2.median().sort_values(by='price',ascending=False)\n",
    "country2 = country2.drop(columns=['Unnamed: 0', 'Lat', 'Lng', 'heat weights', 'year'])\n"
   ]
  },
  {
   "cell_type": "code",
   "execution_count": 13,
   "metadata": {},
   "outputs": [
    {
     "data": {
      "image/png": "[encoded data removed]",
      "text/plain": [
       "<Figure size 432x288 with 1 Axes>"
      ]
     },
     "metadata": {
      "needs_background": "light"
     },
     "output_type": "display_data"
    }
   ],
   "source": [
    "country2.plot(kind=\"bar\", rot=25)\n",
    "plt.title(\"Wines under $25: Median Price & Rating by Country\")\n",
    "\n",
    "for x in range(len(country2)):\n",
    "    \n",
    "    plt.annotate(xy=(x-0.25,country2[\"points\"][x]+2),\n",
    "                s=country2[\"points\"][x])\n",
    "    \n",
    "    plt.annotate(xy=(x,country2[\"price\"][x]+2),\n",
    "                s=country2[\"price\"].map('${:,.0f}'.format)[x])\n",
    "plt.xlabel(\"Country\")    \n",
    "plt.ylim(0, 120)   \n",
    "plt.savefig('wine_under_25_country.png')"
   ]
  },
  {
   "cell_type": "code",
   "execution_count": 14,
   "metadata": {},
   "outputs": [],
   "source": [
    "df = df.drop(columns=['Unnamed: 0', 'Lat', 'Lng', 'heat weights', 'year', \"description\", \"designation\", \"title\", \"taster_name\", \"taster_twitter_handle\" ])"
   ]
  },
  {
   "cell_type": "code",
   "execution_count": 15,
   "metadata": {},
   "outputs": [
    {
     "name": "stdout",
     "output_type": "stream",
     "text": [
      "The Pearson 'R' Correlation is: 0.414400138470705\n"
     ]
    },
    {
     "data": {
      "image/png": "[encoded data removed]",
      "text/plain": [
       "<Figure size 432x288 with 1 Axes>"
      ]
     },
     "metadata": {
      "needs_background": "light"
     },
     "output_type": "display_data"
    }
   ],
   "source": [
    "x_values = df[\"price\"]\n",
    "y_values = df[\"points\"]\n",
    "\n",
    "\n",
    "(slope, intercept, rvalue, pvvalue, stderr) = linregress (x_values, y_values)\n",
    "regress_values = x_values * slope + intercept\n",
    "line_eq = \"y = \" + str(round(slope,2)) + \"x + \" + str(round(intercept,2))\n",
    "plt.plot(x_values, regress_values, \"r-\")\n",
    "plt.annotate(line_eq,(400, 82.5), fontsize=20, color=\"red\")\n",
    "\n",
    "plt.scatter(x_values, y_values, color='blue')\n",
    "\n",
    "#labelling axis' and title\n",
    "plt.xlabel(\"Price\")\n",
    "plt.ylabel(\"Points\")\n",
    "plt.title(\"Price to Quality Correlation\")\n",
    "plt.ylim(79, 101)\n",
    "plt.xlim(0, 4000)\n",
    "print(\"The Pearson 'R' Correlation is:\",st.pearsonr(x_values, y_values)[0])\n",
    "plt.savefig(\"quality_price_correlation.png\")\n",
    "plt.show()"
   ]
  },
  {
   "cell_type": "code",
   "execution_count": 20,
   "metadata": {},
   "outputs": [
    {
     "name": "stdout",
     "output_type": "stream",
     "text": [
      "The Pearson 'R' Correlation is: 0.414400138470705\n"
     ]
    },
    {
     "data": {
      "image/png": "[encoded data removed]",
      "text/plain": [
       "<Figure size 432x288 with 1 Axes>"
      ]
     },
     "metadata": {
      "needs_background": "light"
     },
     "output_type": "display_data"
    }
   ],
   "source": [
    "x_values = df[\"price\"]\n",
    "y_values = df[\"points\"]\n",
    "\n",
    "\n",
    "(slope, intercept, rvalue, pvvalue, stderr) = linregress (x_values, y_values)\n",
    "regress_values = x_values * slope + intercept\n",
    "line_eq = \"y = \" + str(round(slope,2)) + \"x + \" + str(round(intercept,2))\n",
    "plt.plot(x_values, regress_values, \"r-\")\n",
    "plt.annotate(line_eq,(400, 82.5), fontsize=20, color=\"red\")\n",
    "\n",
    "plt.scatter(x_values, y_values, color='blue')\n",
    "\n",
    "#labelling axis' and title\n",
    "plt.xlabel(\"Price\")\n",
    "plt.ylabel(\"Points\")\n",
    "plt.title(\"Price to Quality Correlation\")\n",
    "plt.ylim(79, 101)\n",
    "plt.xlim(0, 1000)\n",
    "print(\"The Pearson 'R' Correlation is:\",st.pearsonr(x_values, y_values)[0])\n",
    "plt.savefig(\"quality_price_correlation2.png\")\n",
    "plt.show()"
   ]
  },
  {
   "cell_type": "code",
   "execution_count": 16,
   "metadata": {},
   "outputs": [
    {
     "data": {
      "text/plain": [
       "20.0"
      ]
     },
     "execution_count": 16,
     "metadata": {},
     "output_type": "execute_result"
    }
   ],
   "source": [
    "reasonable_price_df_vgood = df.loc[(df[\"points\"]==85) | (df[\"points\"]==86) | (df[\"points\"]==87) | (df[\"points\"]==88) | (df[\"points\"]==89)]\n",
    "reasonable_price_df_vgood[\"price\"].median()"
   ]
  },
  {
   "cell_type": "code",
   "execution_count": 17,
   "metadata": {},
   "outputs": [
    {
     "data": {
      "text/plain": [
       "40.0"
      ]
     },
     "execution_count": 17,
     "metadata": {},
     "output_type": "execute_result"
    }
   ],
   "source": [
    "reasonable_price_df_excellent = df.loc[(df[\"points\"]==90) | (df[\"points\"]==91) | (df[\"points\"]==92) | (df[\"points\"]==93) | (df[\"points\"]==94)]\n",
    "reasonable_price_df_excellent[\"price\"].median()"
   ]
  },
  {
   "cell_type": "markdown",
   "metadata": {},
   "source": [
    "df[\"custom rating\"] = (df[\"points\"]-80)*5"
   ]
  }
 ],
 "metadata": {
  "kernelspec": {
   "display_name": "Python 3",
   "language": "python",
   "name": "python3"
  },
  "language_info": {
   "codemirror_mode": {
    "name": "ipython",
    "version": 3
   },
   "file_extension": ".py",
   "mimetype": "text/x-python",
   "name": "python",
   "nbconvert_exporter": "python",
   "pygments_lexer": "ipython3",
   "version": "3.7.3"
  }
 },
 "nbformat": 4,
 "nbformat_minor": 2
}

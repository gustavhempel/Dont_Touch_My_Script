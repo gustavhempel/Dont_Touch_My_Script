{
 "cells": [
  {
   "cell_type": "code",
   "execution_count": 1,
   "metadata": {},
   "outputs": [],
   "source": [
    "# Dependencies and Setup\n",
    "import matplotlib.pyplot as plt\n",
    "import pandas as pd\n",
    "import numpy as np\n",
    "import requests\n",
    "import time\n",
    "from scipy.stats import linregress\n",
    "from pprint import pprint\n",
    "from api_keys import g_key"
   ]
  },
  {
   "cell_type": "code",
   "execution_count": 3,
   "metadata": {},
   "outputs": [],
   "source": [
    "file = '1_2.csv'\n",
    "df = pd.read_csv(file)\n",
    "\n",
    "file1 = '3coord.csv'\n",
    "df1 = pd.read_csv(file1)\n",
    "\n",
    "file2 = '4coord.csv'\n",
    "df2 = pd.read_csv(file2)\n",
    "\n",
    "file4 = '5coord.csv'\n",
    "df4 = pd.read_csv(file4)\n",
    "\n",
    "file5 = '6coord.csv'\n",
    "df5 = pd.read_csv(file5)\n",
    "\n",
    "file6 = '7coord.csv'\n",
    "df6 = pd.read_csv(file6)\n",
    "\n",
    "file7 = '8coord.csv'\n",
    "df7 = pd.read_csv(file7)\n",
    "\n",
    "#file8 = '9.csv'\n",
    "#df8 = pd.read_csv(file8)\n",
    "\n",
    "#file9 = '10.csv'\n",
    "#df9 = pd.read_csv(file9)\n"
   ]
  },
  {
   "cell_type": "code",
   "execution_count": 12,
   "metadata": {},
   "outputs": [],
   "source": [
    "new_df = pd.concat([df,df1,df2,df4,df5,df6,df7], join='outer')\n",
    "new_df.head()\n",
    "new_df = new_df.drop(columns=['Unnamed: 0','Unnamed: 0.1','Unnamed: 0.1.1','Unnamed: 0.1.1.1','region_2'])\n",
    "new_df['year'] = new_df['title']\n"
   ]
  },
  {
   "cell_type": "raw",
   "metadata": {},
   "source": []
  },
  {
   "cell_type": "code",
   "execution_count": 15,
   "metadata": {},
   "outputs": [],
   "source": [
    "new_df['year'] = new_df['year'].str.extract('(\\d+)')"
   ]
  },
  {
   "cell_type": "code",
   "execution_count": 28,
   "metadata": {},
   "outputs": [
    {
     "data": {
      "text/html": [
       "<div>\n",
       "<style scoped>\n",
       "    .dataframe tbody tr th:only-of-type {\n",
       "        vertical-align: middle;\n",
       "    }\n",
       "\n",
       "    .dataframe tbody tr th {\n",
       "        vertical-align: top;\n",
       "    }\n",
       "\n",
       "    .dataframe thead th {\n",
       "        text-align: right;\n",
       "    }\n",
       "</style>\n",
       "<table border=\"1\" class=\"dataframe\">\n",
       "  <thead>\n",
       "    <tr style=\"text-align: right;\">\n",
       "      <th></th>\n",
       "      <th>points</th>\n",
       "      <th>price</th>\n",
       "      <th>Lat</th>\n",
       "      <th>Lng</th>\n",
       "      <th>heat weights</th>\n",
       "    </tr>\n",
       "    <tr>\n",
       "      <th>variety</th>\n",
       "      <th></th>\n",
       "      <th></th>\n",
       "      <th></th>\n",
       "      <th></th>\n",
       "      <th></th>\n",
       "    </tr>\n",
       "  </thead>\n",
       "  <tbody>\n",
       "    <tr>\n",
       "      <th>Malagouzia-Chardonnay</th>\n",
       "      <td>86.000000</td>\n",
       "      <td>8.000000</td>\n",
       "      <td>37.225606</td>\n",
       "      <td>-95.716202</td>\n",
       "      <td>6.000000</td>\n",
       "    </tr>\n",
       "    <tr>\n",
       "      <th>Macabeo-Moscatel</th>\n",
       "      <td>85.000000</td>\n",
       "      <td>8.000000</td>\n",
       "      <td>39.929755</td>\n",
       "      <td>-3.012023</td>\n",
       "      <td>5.000000</td>\n",
       "    </tr>\n",
       "    <tr>\n",
       "      <th>Shiraz-Tempranillo</th>\n",
       "      <td>82.000000</td>\n",
       "      <td>8.500000</td>\n",
       "      <td>35.779821</td>\n",
       "      <td>-58.875590</td>\n",
       "      <td>2.000000</td>\n",
       "    </tr>\n",
       "    <tr>\n",
       "      <th>Johannisberg Riesling</th>\n",
       "      <td>86.571429</td>\n",
       "      <td>8.857143</td>\n",
       "      <td>43.358398</td>\n",
       "      <td>-106.955701</td>\n",
       "      <td>6.571429</td>\n",
       "    </tr>\n",
       "    <tr>\n",
       "      <th>Airen</th>\n",
       "      <td>81.666667</td>\n",
       "      <td>9.000000</td>\n",
       "      <td>41.538212</td>\n",
       "      <td>-2.911664</td>\n",
       "      <td>1.666667</td>\n",
       "    </tr>\n",
       "    <tr>\n",
       "      <th>...</th>\n",
       "      <td>...</td>\n",
       "      <td>...</td>\n",
       "      <td>...</td>\n",
       "      <td>...</td>\n",
       "      <td>...</td>\n",
       "    </tr>\n",
       "    <tr>\n",
       "      <th>Tinta Negra Mole</th>\n",
       "      <td>92.000000</td>\n",
       "      <td>112.000000</td>\n",
       "      <td>40.049679</td>\n",
       "      <td>-76.120398</td>\n",
       "      <td>12.000000</td>\n",
       "    </tr>\n",
       "    <tr>\n",
       "      <th>Malbec-Cabernet</th>\n",
       "      <td>91.666667</td>\n",
       "      <td>113.333333</td>\n",
       "      <td>16.631590</td>\n",
       "      <td>-77.746702</td>\n",
       "      <td>11.666667</td>\n",
       "    </tr>\n",
       "    <tr>\n",
       "      <th>Debit</th>\n",
       "      <td>89.000000</td>\n",
       "      <td>130.000000</td>\n",
       "      <td>35.321151</td>\n",
       "      <td>-106.196968</td>\n",
       "      <td>9.000000</td>\n",
       "    </tr>\n",
       "    <tr>\n",
       "      <th>Rosenmuskateller</th>\n",
       "      <td>92.000000</td>\n",
       "      <td>150.000000</td>\n",
       "      <td>45.784283</td>\n",
       "      <td>-108.520048</td>\n",
       "      <td>12.000000</td>\n",
       "    </tr>\n",
       "    <tr>\n",
       "      <th>Terrantez</th>\n",
       "      <td>95.000000</td>\n",
       "      <td>236.000000</td>\n",
       "      <td>39.063792</td>\n",
       "      <td>-78.065266</td>\n",
       "      <td>15.000000</td>\n",
       "    </tr>\n",
       "  </tbody>\n",
       "</table>\n",
       "<p>658 rows × 5 columns</p>\n",
       "</div>"
      ],
      "text/plain": [
       "                          points       price        Lat         Lng  \\\n",
       "variety                                                               \n",
       "Malagouzia-Chardonnay  86.000000    8.000000  37.225606  -95.716202   \n",
       "Macabeo-Moscatel       85.000000    8.000000  39.929755   -3.012023   \n",
       "Shiraz-Tempranillo     82.000000    8.500000  35.779821  -58.875590   \n",
       "Johannisberg Riesling  86.571429    8.857143  43.358398 -106.955701   \n",
       "Airen                  81.666667    9.000000  41.538212   -2.911664   \n",
       "...                          ...         ...        ...         ...   \n",
       "Tinta Negra Mole       92.000000  112.000000  40.049679  -76.120398   \n",
       "Malbec-Cabernet        91.666667  113.333333  16.631590  -77.746702   \n",
       "Debit                  89.000000  130.000000  35.321151 -106.196968   \n",
       "Rosenmuskateller       92.000000  150.000000  45.784283 -108.520048   \n",
       "Terrantez              95.000000  236.000000  39.063792  -78.065266   \n",
       "\n",
       "                       heat weights  \n",
       "variety                              \n",
       "Malagouzia-Chardonnay      6.000000  \n",
       "Macabeo-Moscatel           5.000000  \n",
       "Shiraz-Tempranillo         2.000000  \n",
       "Johannisberg Riesling      6.571429  \n",
       "Airen                      1.666667  \n",
       "...                             ...  \n",
       "Tinta Negra Mole          12.000000  \n",
       "Malbec-Cabernet           11.666667  \n",
       "Debit                      9.000000  \n",
       "Rosenmuskateller          12.000000  \n",
       "Terrantez                 15.000000  \n",
       "\n",
       "[658 rows x 5 columns]"
      ]
     },
     "execution_count": 28,
     "metadata": {},
     "output_type": "execute_result"
    }
   ],
   "source": [
    "group_var_df = new_df.groupby(new_df['variety'])\n",
    "group_mean = group_df.mean()\n",
    "group_mean_price = group_mean.sort_values(by='price')\n",
    "group_mean_points = group_mean.sort_values(by='points')\n",
    "group_mean_price"
   ]
  },
  {
   "cell_type": "code",
   "execution_count": 29,
   "metadata": {},
   "outputs": [
    {
     "data": {
      "text/html": [
       "<div>\n",
       "<style scoped>\n",
       "    .dataframe tbody tr th:only-of-type {\n",
       "        vertical-align: middle;\n",
       "    }\n",
       "\n",
       "    .dataframe tbody tr th {\n",
       "        vertical-align: top;\n",
       "    }\n",
       "\n",
       "    .dataframe thead th {\n",
       "        text-align: right;\n",
       "    }\n",
       "</style>\n",
       "<table border=\"1\" class=\"dataframe\">\n",
       "  <thead>\n",
       "    <tr style=\"text-align: right;\">\n",
       "      <th></th>\n",
       "      <th>points</th>\n",
       "      <th>price</th>\n",
       "      <th>Lat</th>\n",
       "      <th>Lng</th>\n",
       "      <th>heat weights</th>\n",
       "    </tr>\n",
       "    <tr>\n",
       "      <th>variety</th>\n",
       "      <th></th>\n",
       "      <th></th>\n",
       "      <th></th>\n",
       "      <th></th>\n",
       "      <th></th>\n",
       "    </tr>\n",
       "  </thead>\n",
       "  <tbody>\n",
       "    <tr>\n",
       "      <th>Chancellor</th>\n",
       "      <td>80.500000</td>\n",
       "      <td>16.0</td>\n",
       "      <td>40.394104</td>\n",
       "      <td>-81.916138</td>\n",
       "      <td>0.500000</td>\n",
       "    </tr>\n",
       "    <tr>\n",
       "      <th>Gragnano</th>\n",
       "      <td>81.000000</td>\n",
       "      <td>16.0</td>\n",
       "      <td>42.963611</td>\n",
       "      <td>-78.742778</td>\n",
       "      <td>1.000000</td>\n",
       "    </tr>\n",
       "    <tr>\n",
       "      <th>Airen</th>\n",
       "      <td>81.666667</td>\n",
       "      <td>9.0</td>\n",
       "      <td>41.538212</td>\n",
       "      <td>-2.911664</td>\n",
       "      <td>1.666667</td>\n",
       "    </tr>\n",
       "    <tr>\n",
       "      <th>Picapoll</th>\n",
       "      <td>82.000000</td>\n",
       "      <td>21.0</td>\n",
       "      <td>41.864185</td>\n",
       "      <td>1.972414</td>\n",
       "      <td>2.000000</td>\n",
       "    </tr>\n",
       "    <tr>\n",
       "      <th>Aidani</th>\n",
       "      <td>82.000000</td>\n",
       "      <td>27.0</td>\n",
       "      <td>43.679592</td>\n",
       "      <td>-114.362361</td>\n",
       "      <td>2.000000</td>\n",
       "    </tr>\n",
       "    <tr>\n",
       "      <th>...</th>\n",
       "      <td>...</td>\n",
       "      <td>...</td>\n",
       "      <td>...</td>\n",
       "      <td>...</td>\n",
       "      <td>...</td>\n",
       "    </tr>\n",
       "    <tr>\n",
       "      <th>Sercial</th>\n",
       "      <td>94.000000</td>\n",
       "      <td>50.0</td>\n",
       "      <td>39.063792</td>\n",
       "      <td>-78.065266</td>\n",
       "      <td>14.000000</td>\n",
       "    </tr>\n",
       "    <tr>\n",
       "      <th>Riesling-Chardonnay</th>\n",
       "      <td>94.000000</td>\n",
       "      <td>40.0</td>\n",
       "      <td>40.945028</td>\n",
       "      <td>-72.277470</td>\n",
       "      <td>14.000000</td>\n",
       "    </tr>\n",
       "    <tr>\n",
       "      <th>Bual</th>\n",
       "      <td>94.200000</td>\n",
       "      <td>110.0</td>\n",
       "      <td>37.960880</td>\n",
       "      <td>-88.655828</td>\n",
       "      <td>14.200000</td>\n",
       "    </tr>\n",
       "    <tr>\n",
       "      <th>Gelber Traminer</th>\n",
       "      <td>95.000000</td>\n",
       "      <td>35.0</td>\n",
       "      <td>48.406135</td>\n",
       "      <td>15.589728</td>\n",
       "      <td>15.000000</td>\n",
       "    </tr>\n",
       "    <tr>\n",
       "      <th>Terrantez</th>\n",
       "      <td>95.000000</td>\n",
       "      <td>236.0</td>\n",
       "      <td>39.063792</td>\n",
       "      <td>-78.065266</td>\n",
       "      <td>15.000000</td>\n",
       "    </tr>\n",
       "  </tbody>\n",
       "</table>\n",
       "<p>658 rows × 5 columns</p>\n",
       "</div>"
      ],
      "text/plain": [
       "                        points  price        Lat         Lng  heat weights\n",
       "variety                                                                   \n",
       "Chancellor           80.500000   16.0  40.394104  -81.916138      0.500000\n",
       "Gragnano             81.000000   16.0  42.963611  -78.742778      1.000000\n",
       "Airen                81.666667    9.0  41.538212   -2.911664      1.666667\n",
       "Picapoll             82.000000   21.0  41.864185    1.972414      2.000000\n",
       "Aidani               82.000000   27.0  43.679592 -114.362361      2.000000\n",
       "...                        ...    ...        ...         ...           ...\n",
       "Sercial              94.000000   50.0  39.063792  -78.065266     14.000000\n",
       "Riesling-Chardonnay  94.000000   40.0  40.945028  -72.277470     14.000000\n",
       "Bual                 94.200000  110.0  37.960880  -88.655828     14.200000\n",
       "Gelber Traminer      95.000000   35.0  48.406135   15.589728     15.000000\n",
       "Terrantez            95.000000  236.0  39.063792  -78.065266     15.000000\n",
       "\n",
       "[658 rows x 5 columns]"
      ]
     },
     "execution_count": 29,
     "metadata": {},
     "output_type": "execute_result"
    }
   ],
   "source": [
    "group_mean_points"
   ]
  },
  {
   "cell_type": "code",
   "execution_count": 37,
   "metadata": {},
   "outputs": [],
   "source": [
    "group_pnt_df = new_df.groupby(new_df['points'])"
   ]
  },
  {
   "cell_type": "code",
   "execution_count": 40,
   "metadata": {},
   "outputs": [
    {
     "data": {
      "text/plain": [
       "<matplotlib.axes._subplots.AxesSubplot at 0x18703f21550>"
      ]
     },
     "execution_count": 40,
     "metadata": {},
     "output_type": "execute_result"
    },
    {
     "data": {
      "image/png": "[encoded data removed]",
      "text/plain": [
       "<Figure size 432x288 with 1 Axes>"
      ]
     },
     "metadata": {
      "needs_background": "light"
     },
     "output_type": "display_data"
    }
   ],
   "source": [
    "group_pnt = group_pnt_df.count()\n",
    "group_pnt.plot(kind='bar',legend=False)"
   ]
  },
  {
   "cell_type": "code",
   "execution_count": 43,
   "metadata": {},
   "outputs": [
    {
     "data": {
      "text/plain": [
       "<matplotlib.axes._subplots.AxesSubplot at 0x1870a5d8e48>"
      ]
     },
     "execution_count": 43,
     "metadata": {},
     "output_type": "execute_result"
    },
    {
     "data": {
      "image/png": "[encoded data removed]",
      "text/plain": [
       "<Figure size 432x288 with 1 Axes>"
      ]
     },
     "metadata": {
      "needs_background": "light"
     },
     "output_type": "display_data"
    }
   ],
   "source": [
    "group_prc_df = new_df.groupby(new_df['price'])\n",
    "group_price = group_prc_df.count()\n",
    "group_price.plot()"
   ]
  },
  {
   "cell_type": "code",
   "execution_count": null,
   "metadata": {},
   "outputs": [],
   "source": []
  }
 ],
 "metadata": {
  "kernelspec": {
   "display_name": "Python 3",
   "language": "python",
   "name": "python3"
  },
  "language_info": {
   "codemirror_mode": {
    "name": "ipython",
    "version": 3
   },
   "file_extension": ".py",
   "mimetype": "text/x-python",
   "name": "python",
   "nbconvert_exporter": "python",
   "pygments_lexer": "ipython3",
   "version": "3.7.3"
  }
 },
 "nbformat": 4,
 "nbformat_minor": 4
}
